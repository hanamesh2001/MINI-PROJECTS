{
 "cells": [
  {
   "cell_type": "code",
   "execution_count": null,
   "id": "c497db06-a794-4d31-8143-24e308e730ef",
   "metadata": {},
   "outputs": [],
   "source": [
    "import tkinter as tk\n",
    "from time import strftime\n",
    "\n",
    "root = tk.Tk()\n",
    "root.title(\"Digital clock\")\n",
    "\n",
    "def time():\n",
    "    string = strftime(' %H:%M:%S %p \\n %D ')\n",
    "    label.config(text = string)\n",
    "    label.after(1000,time)\n",
    "\n",
    "label = tk.Label(root,font =( 'calibri' , 180,'bold'), background = 'Red', foreground = 'Green')\n",
    "label.pack(anchor = 'center')\n",
    "\n",
    "time()\n",
    "root.mainloop()\n",
    "\n"
   ]
  },
  {
   "cell_type": "code",
   "execution_count": null,
   "id": "2f82bfa2-fbf2-4bf2-a56d-fa2bd775f453",
   "metadata": {},
   "outputs": [],
   "source": []
  }
 ],
 "metadata": {
  "kernelspec": {
   "display_name": "Python 3 (ipykernel)",
   "language": "python",
   "name": "python3"
  },
  "language_info": {
   "codemirror_mode": {
    "name": "ipython",
    "version": 3
   },
   "file_extension": ".py",
   "mimetype": "text/x-python",
   "name": "python",
   "nbconvert_exporter": "python",
   "pygments_lexer": "ipython3",
   "version": "3.11.7"
  }
 },
 "nbformat": 4,
 "nbformat_minor": 5
}
