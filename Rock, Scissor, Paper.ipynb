{
 "cells": [
  {
   "cell_type": "code",
   "execution_count": null,
   "id": "047632f3-24bd-4596-80cc-59a74ca38ebf",
   "metadata": {},
   "outputs": [],
   "source": [
    "WORKFLOW OF PROJECT\n",
    "1) Input from the user\n",
    "2) COMPUTER CHOICE (RANDOMLY)\n",
    "3) RESULT\n",
    "\n",
    "CASES :-\n",
    "A - Rock"
   ]
  },
  {
   "cell_type": "code",
   "execution_count": 12,
   "id": "8d4f64de-46f6-4152-a432-bac2a5a97ccf",
   "metadata": {},
   "outputs": [
    {
     "name": "stdin",
     "output_type": "stream",
     "text": [
      "Enter your move = Rock,Paper,Scissor =  Paper\n"
     ]
    },
    {
     "name": "stdout",
     "output_type": "stream",
     "text": [
      "User choice = Paper, Computer choice = Scissor\n",
      "Scissor cuts Paper = Computer win\n"
     ]
    }
   ],
   "source": [
    "import random\n",
    "item_list = [\"Rock\",\"Paper\",\"Scissor\"]\n",
    "\n",
    "user_choice = input(\"Enter your move = Rock,Paper,Scissor = \")\n",
    "computer_choice = random.choice(item_list)\n",
    "\n",
    "print(f\"User choice = {user_choice}, Computer choice = {computer_choice}\")\n",
    "\n",
    "if user_choice == computer_choice:\n",
    "    print(\" Both uses same thing : = Match tie \")\n",
    "\n",
    "elif user_choice == \"Rock\":\n",
    "    if computer_choice == \"Paper\":\n",
    "        print(\"Paper covers Rock = Computer win\")\n",
    "    else:\n",
    "        print(\"Rock smashes Scissors = You Win \")\n",
    "\n",
    "elif user_choice == \"Paper\":\n",
    "    if computer_choice == \"Scissor\":\n",
    "        print(\"Scissor cuts Paper = Computer win\")\n",
    "    else:\n",
    "        print(\"Paper covers Rock = You win \")\n",
    "\n",
    "elif user_choice == \"Scissor\":\n",
    "    if computer_choice == \"Rock\":\n",
    "        print(\"Rock smashes  Rock = Computer win\")\n",
    "    else:\n",
    "        print(\"Scissor cuts paper = You Win \")\n",
    "        "
   ]
  },
  {
   "cell_type": "code",
   "execution_count": null,
   "id": "64659c6d-693c-44b7-9b93-6d7bcde1da47",
   "metadata": {},
   "outputs": [],
   "source": []
  }
 ],
 "metadata": {
  "kernelspec": {
   "display_name": "Python 3 (ipykernel)",
   "language": "python",
   "name": "python3"
  },
  "language_info": {
   "codemirror_mode": {
    "name": "ipython",
    "version": 3
   },
   "file_extension": ".py",
   "mimetype": "text/x-python",
   "name": "python",
   "nbconvert_exporter": "python",
   "pygments_lexer": "ipython3",
   "version": "3.11.7"
  }
 },
 "nbformat": 4,
 "nbformat_minor": 5
}
