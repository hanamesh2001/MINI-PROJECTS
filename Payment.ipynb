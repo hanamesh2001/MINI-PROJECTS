{
 "cells": [
  {
   "cell_type": "code",
   "execution_count": 3,
   "id": "cf3af4dc-8dff-4bc8-a345-87eef8bfa2b1",
   "metadata": {},
   "outputs": [
    {
     "name": "stdin",
     "output_type": "stream",
     "text": [
      "Enter your upi_id =  7406036570@upi\n"
     ]
    }
   ],
   "source": [
    "import qrcode\n",
    "\n",
    "#Taking upi id as a input\n",
    "upi_id = input (\"Enter your upi_id = \")\n",
    "\n",
    "#pa=u[i_id &pn=recipent name & am = Amount & cu = Currency & tn = Message\n",
    "#upi://pay?pa=UPI_ID&apn=NAME&am=Amount&cu=CURRENCY&tn=MESSAGE\n",
    "\n",
    "#Defining the payment url based on the UPI ID and the payment app\n",
    "#You can modify this url based on the payments you want to\n",
    "\n",
    "phonepe_url = f'upi://pay?pa={upi_id}&pn=Recipient%Name&mc=1234'\n",
    "paytm_url = f'upi://pay?pa={upi_id}&pn=Recipient%Name&mc=1234'\n",
    "googlepay_url = f'upi://pay?pa={upi_id}&pn=Recipient%Name&mc=1234'\n",
    "#Create qr codes for each payment app\n",
    "phonepe_qr = qrcode.make(phonepe_url)\n",
    "paytm_qr = qrcode.make(paytm_url)\n",
    "googlepay_qr = qrcode.make(googlepay_url)\n",
    "\n",
    "#save the qr code\n",
    "\n",
    "phonepe_qr.save('phonepe_qr.png')\n",
    "paytm_qr.save('paytm_qr.png')\n",
    "googlepay_qr.save('googlepay_qr.png')\n",
    "\n",
    "#Display qr code (install pillow library)\n",
    "phonepe_qr.show()\n",
    "paytm_qr.show()\n",
    "googlepay_qr.show()"
   ]
  },
  {
   "cell_type": "code",
   "execution_count": null,
   "id": "929612e2-a2ad-461f-bba1-367575095b7f",
   "metadata": {},
   "outputs": [],
   "source": []
  }
 ],
 "metadata": {
  "kernelspec": {
   "display_name": "Python 3 (ipykernel)",
   "language": "python",
   "name": "python3"
  },
  "language_info": {
   "codemirror_mode": {
    "name": "ipython",
    "version": 3
   },
   "file_extension": ".py",
   "mimetype": "text/x-python",
   "name": "python",
   "nbconvert_exporter": "python",
   "pygments_lexer": "ipython3",
   "version": "3.11.7"
  }
 },
 "nbformat": 4,
 "nbformat_minor": 5
}
